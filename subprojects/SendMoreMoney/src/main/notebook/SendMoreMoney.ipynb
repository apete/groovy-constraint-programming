{
 "cells": [
  {
   "cell_type": "markdown",
   "metadata": {},
   "source": [
    "## Send More Money cryptarithmetic puzzle\n",
    "\n",
    "While not often spoken about as a classic data science technique,\n",
    "constraint programming can be a very useful tool in numerous scenarios.\n",
    "We'll look at solving a problem using brute force and then how\n",
    "constraint programming provides a very declarative style\n",
    "which saves us having to worry about the implementation details.\n",
    "\n",
    "For our purposes, we'll use a classic example of a [cryptarithmetic puzzle](https://en.wikipedia.org/wiki/Verbal_arithmetic).\n",
    "Such puzzles have several words arranged as a mathematical equation.\n",
    "The goal is to guess each letter where each letter represents a different digit.\n",
    "By convention, the leading digit of a multi-digit number should not be zero."
   ]
  },
  {
   "cell_type": "markdown",
   "metadata": {},
   "source": [
    "For us, the puzzle is:<br>\n",
    "<code>&nbsp;     S E N D</code><br>\n",
    "<code>&nbsp;+    M O R E</code><br>\n",
    "<code>&nbsp;=  M O N E Y</code>"
   ]
  },
  {
   "cell_type": "markdown",
   "metadata": {},
   "source": [
    "### Brute force approaches\n",
    "\n",
    "First a brute force solution in Python:"
   ]
  },
  {
   "cell_type": "code",
   "execution_count": 3,
   "metadata": {},
   "outputs": [
    {
     "name": "stdout",
     "output_type": "stream",
     "text": [
      "[(9567, 1085, 10652)]\n"
     ]
    }
   ],
   "source": [
    "def solutions():\n",
    "    # letters = ('s', 'e', 'n', 'd', 'm', 'o', 'r', 'y')\n",
    "    all_solutions = list()\n",
    "    for s in range(1, 10):\n",
    "        for e in range(0, 10):\n",
    "            for n in range(0, 10):\n",
    "                for d in range(0, 10):\n",
    "                    for m in range(1, 10):\n",
    "                        for o in range(0, 10):\n",
    "                            for r in range(0, 10):\n",
    "                                for y in range(0, 10):\n",
    "                                    if len({s, e, n, d, m, o, r, y}) == 8:\n",
    "                                        send = 1000 * s + 100 * e + 10 * n + d\n",
    "                                        more = 1000 * m + 100 * o + 10 * r + e\n",
    "                                        money = 10000 * m + 1000 * o + 100 * n + 10 * e + y\n",
    "                                        if send + more == money:\n",
    "                                            all_solutions.append((send, more, money))\n",
    "\n",
    "\n",
    "    return all_solutions\n",
    "\n",
    "print(solutions())"
   ]
  },
  {
   "cell_type": "markdown",
   "metadata": {},
   "source": [
    "Next a brute force solution in Groovy:"
   ]
  },
  {
   "cell_type": "code",
   "execution_count": 2,
   "metadata": {},
   "outputs": [
    {
     "name": "stdout",
     "output_type": "stream",
     "text": [
      "s = 9, e = 5, n = 6, d = 7\n",
      "m = 1, o = 0, r = 8, y = 2\n"
     ]
    }
   ],
   "source": [
    "%%groovy\n",
    "\n",
    "for (s in 1..9)\n",
    "    for (e in 0..9)\n",
    "        for (n in 0..9)\n",
    "            for (d in 0..9)\n",
    "                for (m in 1..9)\n",
    "                    for (o in 0..9)\n",
    "                        for (r in 0..9)\n",
    "                            for (y in 0..9)\n",
    "                                if ([s, e, n, d, m, o, r, y].toSet().size() == 8) {\n",
    "                                    def send = 1000 * s + 100 * e + 10 * n + d\n",
    "                                    def more = 1000 * m + 100 * o + 10 * r + e\n",
    "                                    def money = 10000 * m + 1000 * o + 100 * n + 10 * e + y\n",
    "                                    if (send + more == money) {\n",
    "                                        println \"s = $s, e = $e, n = $n, d = $d\"\n",
    "                                        println \"m = $m, o = $o, r = $r, y = $y\"\n",
    "                                    }\n",
    "                                }\n",
    "OutputCell.HIDDEN"
   ]
  },
  {
   "cell_type": "markdown",
   "metadata": {},
   "source": [
    "We can use permutations with Python:"
   ]
  },
  {
   "cell_type": "code",
   "execution_count": 6,
   "metadata": {},
   "outputs": [
    {
     "name": "stdout",
     "output_type": "stream",
     "text": [
      "(9567, 1085, 10652)\n"
     ]
    }
   ],
   "source": [
    "from itertools import permutations\n",
    "\n",
    "def solution2():\n",
    "    letters = ('s', 'e', 'n', 'd', 'm', 'o', 'r', 'y')\n",
    "    digits = range(10)\n",
    "    for perm in permutations(digits, len(letters)):\n",
    "        sol = dict(zip(letters, perm))\n",
    "        if sol['s'] == 0 or sol['m'] == 0:\n",
    "            continue\n",
    "        send = 1000 * sol['s'] + 100 * sol['e'] + 10 * sol['n'] + sol['d']\n",
    "        more = 1000 * sol['m'] + 100 * sol['o'] + 10 * sol['r'] + sol['e']\n",
    "        money = 10000 * sol['m'] + 1000 * sol['o'] + 100 * sol['n'] + 10 * sol['e'] + sol['y']\n",
    "        if send + more == money:\n",
    "            return send, more, money\n",
    "\n",
    "print(solution2())"
   ]
  },
  {
   "cell_type": "markdown",
   "metadata": {},
   "source": [
    "We can use permutations with Groovy:"
   ]
  },
  {
   "cell_type": "code",
   "execution_count": 7,
   "metadata": {},
   "outputs": [
    {
     "name": "stdout",
     "output_type": "stream",
     "text": [
      "s = 9, e = 5, n = 6, d = 7\n",
      "m = 1, o = 0, r = 8, y = 2\n"
     ]
    }
   ],
   "source": [
    "%%groovy\n",
    "\n",
    "digits = 0..9\n",
    "for (p in digits.permutations()) {\n",
    "    if (p[-1] < p[-2]) continue\n",
    "    def (s, e, n, d, m, o, r, y) = p\n",
    "    if (s == 0 || m == 0) continue\n",
    "    def send = 1000 * s + 100 * e + 10 * n + d\n",
    "    def more = 1000 * m + 100 * o + 10 * r + e\n",
    "    def money = 10000 * m + 1000 * o + 100 * n + 10 * e + y\n",
    "    if (send + more == money) {\n",
    "        println \"s = $s, e = $e, n = $n, d = $d\"\n",
    "        println \"m = $m, o = $o, r = $r, y = $y\"\n",
    "    }\n",
    "}\n",
    "OutputCell.HIDDEN"
   ]
  },
  {
   "cell_type": "markdown",
   "metadata": {},
   "source": [
    "### Constraint programming\n",
    "\n",
    "We can use the [Choco constraint programming library](http://www.choco-solver.org/) which allows us to write our solution in a very declarative style using only constraints.\n",
    "The set of constraints must be satisfied in every solution.\n",
    "The constraint programming engine solves by applying various constraint filtering algorithms in combination with a search mechanism.\n",
    "If you have heard of [Prolog](https://en.wikipedia.org/wiki/Prolog) and back-tracking, you will have the idea."
   ]
  },
  {
   "cell_type": "code",
   "execution_count": 9,
   "metadata": {},
   "outputs": [
    {
     "name": "stdout",
     "output_type": "stream",
     "text": [
      "** Choco 4.10.2 (2019-10) : Constraint Programming Solver, Copyright (c) 2010-2019\n",
      "- Model[SEND+MORE=MONEY] features:\n",
      "\tVariables : 9\n",
      "\tConstraints : 2\n",
      "\tBuilding time : 0.007s\n",
      "\tUser-defined search strategy : yes\n",
      "\tComplementary search strategy : no\n",
      "- Complete search - 1 solution found.\n",
      "\tModel[SEND+MORE=MONEY]\n",
      "\tSolutions: 1\n",
      "\tBuilding time : 0.007s\n",
      "\tResolution time : 0.002s\n",
      "\tNodes: 3 (1,241.6 n/s) \n",
      "\tBacktracks: 1\n",
      "\tBackjumps: 0\n",
      "\tFails: 1\n",
      "\tRestarts: 0\n"
     ]
    },
    {
     "data": {
      "text/plain": [
       "Solution: S=9, E=5, N=6, D=7, M=1, 0=0, R=8, Y=2, "
      ]
     },
     "execution_count": 6,
     "metadata": {},
     "output_type": "execute_result"
    }
   ],
   "source": [
    "%%groovy\n",
    "\n",
    "@Grab('org.choco-solver:choco-solver:4.10.2')\n",
    "import org.chocosolver.solver.Model\n",
    "import org.chocosolver.solver.variables.IntVar\n",
    "\n",
    "def model = new Model(\"SEND+MORE=MONEY\")\n",
    "def S = model.intVar(\"S\", 1, 9)\n",
    "def E = model.intVar(\"E\", 0, 9)\n",
    "def N = model.intVar(\"N\", 0, 9)\n",
    "def D = model.intVar(\"D\", 0, 9)\n",
    "def M = model.intVar(\"M\", 1, 9)\n",
    "def O = model.intVar(\"0\", 0, 9)\n",
    "def R = model.intVar(\"R\", 0, 9)\n",
    "def Y = model.intVar(\"Y\", 0, 9)\n",
    "\n",
    "model.allDifferent(S, E, N, D, M, O, R, Y).post()\n",
    "\n",
    "IntVar[] ALL = [\n",
    "        S, E, N, D,\n",
    "        M, O, R, E,\n",
    "        M, O, N, E, Y]\n",
    "int[] COEFFS = [\n",
    "        1000, 100, 10, 1,\n",
    "        1000, 100, 10, 1,\n",
    "        -10000, -1000, -100, -10, -1]\n",
    "model.scalar(ALL, COEFFS, \"=\", 0).post()\n",
    "\n",
    "//model.solver.findSolution()\n",
    "\n",
    "model.solver.with {\n",
    "    showStatistics()\n",
    "//    showDecisions()\n",
    "//    showSolutions()\n",
    "    findSolution()\n",
    "}"
   ]
  },
  {
   "cell_type": "code",
   "execution_count": null,
   "metadata": {},
   "outputs": [],
   "source": []
  }
 ],
 "metadata": {
  "kernelspec": {
   "display_name": "Python 3",
   "language": "python",
   "name": "python3"
  },
  "language_info": {
   "codemirror_mode": {
    "name": "ipython",
    "version": 3
   },
   "file_extension": ".py",
   "mimetype": "text/x-python",
   "name": "python",
   "nbconvert_exporter": "python",
   "pygments_lexer": "ipython3",
   "version": "3.7.3"
  },
  "toc": {
   "base_numbering": 1,
   "nav_menu": {},
   "number_sections": false,
   "sideBar": false,
   "skip_h1_title": false,
   "title_cell": "Table of Contents",
   "title_sidebar": "Contents",
   "toc_cell": false,
   "toc_position": {},
   "toc_section_display": false,
   "toc_window_display": false
  }
 },
 "nbformat": 4,
 "nbformat_minor": 2
}
