{
 "cells": [
  {
   "cell_type": "markdown",
   "metadata": {},
   "source": [
    "## Infinite number of monkeys thought experiment\n",
    "\n",
    "The [infinite monkey theorem](https://en.wikipedia.org/wiki/Infinite_monkey_theorem) states that a monkey hitting keys at random on a typewriter keyboard for an infinite amount of time will almost surely type any given text, such as the complete works of William Shakespeare."
   ]
  },
  {
   "cell_type": "markdown",
   "metadata": {},
   "source": [
    "We'll make some simplifications. We'll assume that the monkeys:\n",
    "* can only type the letters a-z, A-Z, space, and a few punctuation\n",
    "* we are only looking for them to complete \"To be or not to be?\""
   ]
  },
  {
   "cell_type": "markdown",
   "metadata": {},
   "source": [
    "### Using Jenetics\n",
    "\n",
    "Let's consider a solution using the [Jenetics](https://jenetics.io/) library."
   ]
  },
  {
   "cell_type": "code",
   "execution_count": 1,
   "metadata": {},
   "outputs": [
    {
     "data": {
      "application/vnd.jupyter.widget-view+json": {
       "model_id": "",
       "version_major": 2,
       "version_minor": 0
      },
      "method": "display_data"
     },
     "metadata": {},
     "output_type": "display_data"
    },
    {
     "data": {
      "application/vnd.jupyter.widget-view+json": {
       "model_id": "00c054b1-faea-497b-985a-1343e058c0f4",
       "version_major": 2,
       "version_minor": 0
      },
      "method": "display_data"
     },
     "metadata": {},
     "output_type": "display_data"
    }
   ],
   "source": [
    "%%classpath add mvn\n",
    "io.jenetics jenetics 5.2.0"
   ]
  },
  {
   "cell_type": "markdown",
   "metadata": {},
   "outputs": [],
   "source": [
    "With our `limit` of `10000`, the result may not always be fully complete.\n",
    "You can increase that limit to ensure you always get the correct result."
   ]
  },
  {
   "cell_type": "code",
   "execution_count": 2,
   "metadata": {},
   "outputs": [
    {
     "name": "stdout",
     "output_type": "stream",
     "text": [
     ]
    }
   ],
   "source": [
    "%%groovy\n",
    "\n",
    "import io.jenetics.*\n",
    "import io.jenetics.engine.*\n",
    "import java.util.function.*\n",
    "\n",
    "def SENTENCE = \"To be or not to be?\"\n",
    "int DIMENSION = SENTENCE.size()\n",
    "def POSSIBLE_CHARS = ('a'..'z') + ('A'..'Z') + \" !?.\".toList()\n",
    "int SIZE = POSSIBLE_CHARS.size()\n",
    "def r = new Random()\n",
    "\n",
    "Supplier generateRandomChar = { -> POSSIBLE_CHARS[r.nextInt(SIZE)] as char }\n",
    "\n",
    "Function fitness = { Genotype gt ->\n",
    "    (0..<DIMENSION).inject(0) { sum, i ->\n",
    "        def target = SENTENCE.charAt(i)\n",
    "        def allele = gt.chromosome().get(i).allele()\n",
    "        int exactBonus = allele == target ? 100 : 0\n",
    "        sum + SIZE - (target - allele).abs() + exactBonus\n",
    "    }\n",
    "}\n",
    "\n",
    "def gtf = Genotype.of(AnyChromosome.of(generateRandomChar, DIMENSION), new Chromosome[]{})\n",
    "def engine = Engine.builder(fitness, gtf).offspringSelector(new RouletteWheelSelector()).build()\n",
    "def result = engine.stream().limit(10000).collect(EvolutionResult.toBestGenotype())\n",
    "println \"Result: $result\" // Result: [[T,o, ,b,e, ,o,r, ,o,o,t, ,t,o, ,b,e,?]]\n",
    "\n",
    "OutputCell.HIDDEN"
   ]
  }
 ],
 "metadata": {
  "anaconda-cloud": {},
  "kernelspec": {
   "display_name": "Groovy",
   "language": "groovy",
   "name": "groovy"
  },
  "language_info": {
   "codemirror_mode": "groovy",
   "file_extension": ".groovy",
   "mimetype": "",
   "name": "Groovy",
   "nbconverter_exporter": "",
   "version": "2.4.3"
  },
  "toc": {
   "base_numbering": 1,
   "nav_menu": {},
   "number_sections": false,
   "sideBar": false,
   "skip_h1_title": false,
   "title_cell": "Table of Contents",
   "title_sidebar": "Contents",
   "toc_cell": false,
   "toc_position": {},
   "toc_section_display": false,
   "toc_window_display": false
  }
 },
 "nbformat": 4,
 "nbformat_minor": 2
}
