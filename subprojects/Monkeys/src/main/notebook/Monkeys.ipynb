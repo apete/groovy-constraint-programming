{
 "cells": [
  {
   "cell_type": "markdown",
   "id": "d5e578e3",
   "metadata": {},
   "source": [
    "## Infinite number of monkeys thought experiment\n",
    "\n",
    "The [infinite monkey theorem](https://en.wikipedia.org/wiki/Infinite_monkey_theorem) states\n",
    "that a monkey hitting keys at random on a typewriter keyboard for an infinite amount of time\n",
    "will almost surely type any given text, such as the complete works of William Shakespeare."
   ]
  },
  {
   "cell_type": "markdown",
   "id": "5a0be0a2",
   "metadata": {},
   "source": [
    "We'll make some simplifications. We'll assume that the monkeys:\n",
    "* can only type the letters a-z, A-Z, space, and a few punctuation\n",
    "* we are only looking for them to complete \"To be or not to be?\""
   ]
  },
  {
   "cell_type": "markdown",
   "id": "e82ca355",
   "metadata": {},
   "source": [
    "### Using Jenetics\n",
    "\n",
    "Let's consider a solution using the [Jenetics](https://jenetics.io/) library."
   ]
  },
  {
   "cell_type": "code",
   "execution_count": 1,
   "id": "838487ae",
   "metadata": {},
   "outputs": [
    {
     "data": {
      "application/vnd.jupyter.widget-view+json": {
       "model_id": "",
       "version_major": 2,
       "version_minor": 0
      },
      "method": "display_data"
     },
     "metadata": {},
     "output_type": "display_data"
    },
    {
     "data": {
      "application/vnd.jupyter.widget-view+json": {
       "model_id": "b1f38ac8-8a17-4a74-afdb-b98b40025e77",
       "version_major": 2,
       "version_minor": 0
      },
      "method": "display_data"
     },
     "metadata": {},
     "output_type": "display_data"
    }
   ],
   "source": [
    "%%classpath add mvn\n",
    "io.jenetics jenetics 5.2.0"
   ]
  },
  {
   "cell_type": "markdown",
   "id": "57c8be14",
   "metadata": {},
   "source": [
    "With our `limit` of `10000`, the result may not always be fully complete.\n",
    "You can increase that limit to ensure you always get the correct result."
   ]
  },
  {
   "cell_type": "code",
   "execution_count": null,
   "id": "7f288107",
   "metadata": {},
   "outputs": [
    {
     "name": "stdout",
     "output_type": "stream",
     "text": [
      "Result: [[T,o, ,b,e, ,o,r, ,o,o,t, ,t,o, ,b,e,?]]\n"
     ]
    }
   ],
   "source": [
    "import io.jenetics.*\n",
    "import io.jenetics.engine.*\n",
    "import java.util.function.*\n",
    "\n",
    "def SENTENCE = \"To be or not to be?\"\n",
    "int DIMENSION = SENTENCE.size()\n",
    "def POSSIBLE_CHARS = ('a'..'z') + ('A'..'Z') + \" !?.\".toList()\n",
    "int SIZE = POSSIBLE_CHARS.size()\n",
    "def r = new Random()\n",
    "\n",
    "Supplier generateRandomChar = { -> POSSIBLE_CHARS[r.nextInt(SIZE)] as char }\n",
    "\n",
    "Function fitness = { Genotype gt ->\n",
    "    (0..<DIMENSION).inject(0) { sum, i ->\n",
    "        def target = SENTENCE.charAt(i)\n",
    "        def allele = gt.chromosome().get(i).allele()\n",
    "        int exactBonus = allele == target ? 100 : 0\n",
    "        sum + SIZE - (target - allele).abs() + exactBonus\n",
    "    }\n",
    "}\n",
    "\n",
    "def gtf = Genotype.of([AnyChromosome.of(generateRandomChar, DIMENSION)])\n",
    "def engine = Engine.builder(fitness, gtf).offspringSelector(new RouletteWheelSelector()).build()\n",
    "def result = engine.stream().limit(10000).collect(EvolutionResult.toBestGenotype())\n",
    "println \"Result: $result\" // Result might be: [[T,o, ,b,e, ,o,r, ,o,o,t, ,t,o, ,b,e,?]]\n",
    "\n",
    "OutputCell.HIDDEN"
   ]
  },
  {
   "cell_type": "code",
   "execution_count": null,
   "id": "e30c9a35",
   "metadata": {},
   "outputs": [],
   "source": []
  }
 ],
 "metadata": {
  "kernelspec": {
   "display_name": "Groovy",
   "language": "groovy",
   "name": "groovy"
  },
  "language_info": {
   "codemirror_mode": "groovy",
   "file_extension": ".groovy",
   "mimetype": "",
   "name": "Groovy",
   "nbconverter_exporter": "",
   "version": "2.5.6"
  },
  "toc": {
   "base_numbering": 1,
   "nav_menu": {},
   "number_sections": false,
   "sideBar": false,
   "skip_h1_title": false,
   "title_cell": "Table of Contents",
   "title_sidebar": "Contents",
   "toc_cell": false,
   "toc_position": {},
   "toc_section_display": false,
   "toc_window_display": false
  }
 },
 "nbformat": 4,
 "nbformat_minor": 5
}
