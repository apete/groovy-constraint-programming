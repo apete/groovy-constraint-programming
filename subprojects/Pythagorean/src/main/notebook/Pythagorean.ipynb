{
 "cells": [
  {
   "cell_type": "markdown",
   "metadata": {},
   "source": [
    "We use the `choco-solver` constraint programming library and `tablesaw-beakerx` to get a nice table output."
   ]
  },
  {
   "cell_type": "code",
   "execution_count": 88,
   "metadata": {},
   "outputs": [
    {
     "data": {
      "application/vnd.jupyter.widget-view+json": {
       "model_id": "",
       "version_major": 2,
       "version_minor": 0
      },
      "method": "display_data"
     },
     "metadata": {},
     "output_type": "display_data"
    }
   ],
   "source": [
    "%%classpath add mvn\n",
    "org.choco-solver choco-solver 4.10.5\n",
    "tech.tablesaw tablesaw-beakerx 0.38.1"
   ]
  },
  {
   "cell_type": "markdown",
   "metadata": {},
   "source": [
    "Constraint programming solution for pythagorean triples, i.e. $x^2 + y^2 = z^2$ for $x$, $y$, $z$ less than 30."
   ]
  },
  {
   "cell_type": "code",
   "execution_count": 89,
   "metadata": {},
   "outputs": [],
   "source": [
    "%import org.chocosolver.solver.Model\n",
    "%import tech.tablesaw.api.*"
   ]
  },
  {
   "cell_type": "markdown",
   "metadata": {},
   "source": [
    "Also enable a BeakerX display widget for Tablesaw tables."
   ]
  },
  {
   "cell_type": "code",
   "execution_count": 90,
   "metadata": {},
   "outputs": [],
   "source": [
    "tech.tablesaw.beakerx.TablesawDisplayer.register()\n",
    "OutputCell.HIDDEN"
   ]
  },
  {
   "cell_type": "code",
   "execution_count": 91,
   "metadata": {},
   "outputs": [
    {
     "data": {
      "application/vnd.jupyter.widget-view+json": {
       "model_id": "635cb406-3808-4106-9ebb-ab643d9bd1d2",
       "version_major": 2,
       "version_minor": 0
      },
      "method": "display_data"
     },
     "metadata": {},
     "output_type": "display_data"
    }
   ],
   "source": [
    "def table = Table.create('triples', *['x', 'y', 'z'].collect{ IntColumn.create(it) })\n",
    "plot = new Plot(xBound: [0,42], yBound: [0,50])\n",
    "\n",
    "new Model('Pythagorean-triple').with {\n",
    "  def x = intVar(1, 30)\n",
    "  def y = intVar(1, 30)\n",
    "  def z = intVar(1, 30)\n",
    "  y.gt(x).post()      // y > x to remove duplicates\n",
    "  z.gt(y).post()      // z > y for efficiency\n",
    "  x.mul(x).add(y.mul(y)).eq(z.mul(z)).post()\n",
    "  while (solver.solve()) {\n",
    "    table.appendRow().with {\n",
    "      setInt('x', x.value)\n",
    "      setInt('y', y.value)\n",
    "      setInt('z', z.value)\n",
    "    }\n",
    "    plot.add(new Line(x:[x.value,x.value], y:[y.value,y.value*2]))\n",
    "    plot.add(new Line(x:[x.value*2,x.value], y:[y.value,y.value]))\n",
    "    plot.add(new Line(x:[x.value*2,x.value], y:[y.value,y.value*2]))\n",
    "  }\n",
    "}\n",
    "\n",
    "table"
   ]
  },
  {
   "cell_type": "code",
   "execution_count": 92,
   "metadata": {},
   "outputs": [
    {
     "data": {
      "application/vnd.jupyter.widget-view+json": {
       "model_id": "c6669abf-872b-4886-9646-4813f9161b9b",
       "version_major": 2,
       "version_minor": 0
      },
      "method": "display_data"
     },
     "metadata": {},
     "output_type": "display_data"
    }
   ],
   "source": [
    "plot"
   ]
  }
 ],
 "metadata": {
  "kernelspec": {
   "display_name": "Groovy",
   "language": "groovy",
   "name": "groovy"
  },
  "language_info": {
   "codemirror_mode": "groovy",
   "file_extension": ".groovy",
   "mimetype": "",
   "name": "Groovy",
   "nbconverter_exporter": "",
   "version": "2.4.3"
  },
  "toc": {
   "base_numbering": 1,
   "nav_menu": {},
   "number_sections": false,
   "sideBar": false,
   "skip_h1_title": false,
   "title_cell": "Table of Contents",
   "title_sidebar": "Contents",
   "toc_cell": false,
   "toc_position": {},
   "toc_section_display": false,
   "toc_window_display": false
  },
  "widgets": {
   "application/vnd.jupyter.widget-state+json": {
    "state": {
     "0040457e-cacd-4381-8fd2-c386f306f9d4": {
      "model_module": "@jupyter-widgets/base",
      "model_module_version": "*",
      "model_name": "LayoutModel",
      "state": {
       "_model_module_version": "*",
       "_view_module_version": "*",
       "align_content": "",
       "align_self": "",
       "border": "",
       "bottom": "",
       "flex": "",
       "height": "",
       "justify_content": "",
       "left": "",
       "margin": "",
       "max_height": "",
       "max_width": "",
       "min_height": "",
       "min_width": "",
       "msg_throttle": 3,
       "overflow": "",
       "overflow_x": "",
       "overflow_y": "",
       "padding": "",
       "right": "",
       "top": ""
      }
     },
     "1ac5bc30-8640-424f-bf4b-44c77967584d": {
      "model_module": "@jupyter-widgets/base",
      "model_module_version": "*",
      "model_name": "LayoutModel",
      "state": {
       "_model_module_version": "*",
       "_view_module_version": "*",
       "align_content": "",
       "align_self": "",
       "border": "",
       "bottom": "",
       "flex": "",
       "height": "",
       "justify_content": "",
       "left": "",
       "margin": "",
       "max_height": "",
       "max_width": "",
       "min_height": "",
       "min_width": "",
       "msg_throttle": 3,
       "overflow": "",
       "overflow_x": "",
       "overflow_y": "",
       "padding": "",
       "right": "",
       "top": ""
      }
     },
     "1c544f94-7be4-4b7b-8084-6dbcefd58af1": {
      "model_module": "@jupyter-widgets/base",
      "model_module_version": "*",
      "model_name": "LayoutModel",
      "state": {
       "_model_module_version": "*",
       "_view_module_version": "*",
       "align_content": "",
       "align_self": "",
       "border": "",
       "bottom": "",
       "flex": "",
       "height": "",
       "justify_content": "",
       "left": "",
       "margin": "",
       "max_height": "",
       "max_width": "",
       "min_height": "",
       "min_width": "",
       "msg_throttle": 3,
       "overflow": "",
       "overflow_x": "",
       "overflow_y": "",
       "padding": "",
       "right": "",
       "top": ""
      }
     },
     "35db4d97-7929-4c38-9152-826f206ce852": {
      "model_module": "beakerx",
      "model_module_version": "*",
      "model_name": "BxHTMLModel",
      "state": {
       "background_color": null,
       "color": null,
       "font_family": "",
       "font_size": "",
       "font_style": "",
       "font_weight": "",
       "layout": "IPY_MODEL_a0bde121-ddfa-4c9a-b886-52c0720f4744",
       "msg_throttle": 3,
       "placeholder": "",
       "value": "VectorGraphics2D-0.13.jar, choco-sat-4.10.5.jar, jheaps-0.11.jar, graphics2d-0.27.jar, cpprof-java-1.3.0.jar, commons-logging-1.2.jar, choco-solver-4.10.5.jar, fontbox-2.0.19.jar, trove4j-3.0.3.jar, automaton-1.11-8.jar, xchart-3.6.4.jar, protobuf-java-2.6.1.jar, jgrapht-core-1.4.0.jar, pdfbox-2.0.19.jar, animated-gif-lib-1.4.jar",
       "visible": true
      }
     },
     "4d5235e5-1d29-41f5-b33d-c97b2d650ed9": {
      "model_module": "@jupyter-widgets/base",
      "model_module_version": "*",
      "model_name": "LayoutModel",
      "state": {
       "_model_module_version": "*",
       "_view_module_version": "*",
       "align_content": "",
       "align_self": "",
       "border": "",
       "bottom": "",
       "flex": "",
       "height": "",
       "justify_content": "",
       "left": "",
       "margin": "",
       "max_height": "",
       "max_width": "",
       "min_height": "",
       "min_width": "",
       "msg_throttle": 3,
       "overflow": "",
       "overflow_x": "",
       "overflow_y": "",
       "padding": "",
       "right": "",
       "top": ""
      }
     },
     "5ede4171-d518-44be-8c0d-abdfbe939cf5": {
      "model_module": "@jupyter-widgets/base",
      "model_module_version": "*",
      "model_name": "LayoutModel",
      "state": {
       "_model_module_version": "*",
       "_view_module_version": "*",
       "align_content": "",
       "align_self": "",
       "border": "",
       "bottom": "",
       "flex": "",
       "height": "",
       "justify_content": "",
       "left": "",
       "margin": "",
       "max_height": "",
       "max_width": "",
       "min_height": "",
       "min_width": "",
       "msg_throttle": 3,
       "overflow": "",
       "overflow_x": "",
       "overflow_y": "",
       "padding": "",
       "right": "",
       "top": ""
      }
     },
     "91f13017-aff9-459c-9c1f-af80d2ee0b0f": {
      "model_module": "@jupyter-widgets/base",
      "model_module_version": "*",
      "model_name": "LayoutModel",
      "state": {
       "_model_module_version": "*",
       "_view_module_version": "*",
       "align_content": "",
       "align_self": "",
       "border": "",
       "bottom": "",
       "flex": "",
       "height": "",
       "justify_content": "",
       "left": "",
       "margin": "",
       "max_height": "",
       "max_width": "",
       "min_height": "",
       "min_width": "",
       "msg_throttle": 3,
       "overflow": "",
       "overflow_x": "",
       "overflow_y": "",
       "padding": "",
       "right": "",
       "top": ""
      }
     },
     "a0bde121-ddfa-4c9a-b886-52c0720f4744": {
      "model_module": "@jupyter-widgets/base",
      "model_module_version": "*",
      "model_name": "LayoutModel",
      "state": {
       "_model_module_version": "*",
       "_view_module_version": "*",
       "align_content": "",
       "align_self": "",
       "border": "",
       "bottom": "",
       "flex": "",
       "height": "",
       "justify_content": "",
       "left": "",
       "margin": "",
       "max_height": "",
       "max_width": "",
       "min_height": "",
       "min_width": "",
       "msg_throttle": 3,
       "overflow": "",
       "overflow_x": "",
       "overflow_y": "",
       "padding": "",
       "right": "",
       "top": ""
      }
     },
     "a7909ac3-ef8f-44f8-96c4-20a3cb9fcd94": {
      "model_module": "@jupyter-widgets/base",
      "model_module_version": "*",
      "model_name": "LayoutModel",
      "state": {
       "_model_module_version": "*",
       "_view_module_version": "*",
       "align_content": "",
       "align_self": "",
       "border": "",
       "bottom": "",
       "flex": "",
       "height": "",
       "justify_content": "",
       "left": "",
       "margin": "",
       "max_height": "",
       "max_width": "",
       "min_height": "",
       "min_width": "",
       "msg_throttle": 3,
       "overflow": "",
       "overflow_x": "",
       "overflow_y": "",
       "padding": "",
       "right": "",
       "top": ""
      }
     },
     "d8e5ce6f-cf32-4d56-830c-63eda82ddc56": {
      "model_module": "beakerx",
      "model_module_version": "*",
      "model_name": "FoldoutModel",
      "state": {
       "background_color": null,
       "children": [
        "IPY_MODEL_db3a7cae-f231-4f77-acfa-b3278bcc0cf2"
       ],
       "color": null,
       "description": "",
       "disabled": false,
       "font_family": "",
       "font_size": "",
       "font_style": "",
       "font_weight": "",
       "headerLabel": "Added jars: ",
       "hidePreview": false,
       "layout": "IPY_MODEL_5ede4171-d518-44be-8c0d-abdfbe939cf5",
       "msg_throttle": 3,
       "visible": true
      }
     },
     "db3a7cae-f231-4f77-acfa-b3278bcc0cf2": {
      "model_module": "beakerx",
      "model_module_version": "*",
      "model_name": "BxHTMLModel",
      "state": {
       "background_color": null,
       "color": null,
       "font_family": "",
       "font_size": "",
       "font_style": "",
       "font_weight": "",
       "layout": "IPY_MODEL_91f13017-aff9-459c-9c1f-af80d2ee0b0f",
       "msg_throttle": 3,
       "placeholder": "",
       "value": "RoaringBitmap-0.8.12.jar, icu4j-65.1.jar, failureaccess-1.0.1.jar, error_prone_annotations-2.3.4.jar, tablesaw-core-0.38.1.jar, univocity-parsers-2.8.4.jar, checker-qual-2.10.0.jar, commons-math3-3.6.1.jar, classgraph-4.8.60.jar, guava-28.2-jre.jar, j2objc-annotations-1.3.jar, slf4j-api-1.7.30.jar, tablesaw-beakerx-0.38.1.jar, listenablefuture-9999.0-empty-to-avoid-conflict-with-guava.jar, fastutil-8.3.0.jar, jsr305-3.0.2.jar, shims-0.8.12.jar",
       "visible": true
      }
     },
     "ddc46a79-921f-4be5-9af3-75d69a94f3d5": {
      "model_module": "@jupyter-widgets/base",
      "model_module_version": "*",
      "model_name": "LayoutModel",
      "state": {
       "_model_module_version": "*",
       "_view_module_version": "*",
       "align_content": "",
       "align_self": "",
       "border": "",
       "bottom": "",
       "flex": "",
       "height": "",
       "justify_content": "",
       "left": "",
       "margin": "",
       "max_height": "",
       "max_width": "",
       "min_height": "",
       "min_width": "",
       "msg_throttle": 3,
       "overflow": "",
       "overflow_x": "",
       "overflow_y": "",
       "padding": "",
       "right": "",
       "top": ""
      }
     },
     "ee10adc6-0c83-4bd5-a258-1d62ac73fa29": {
      "model_module": "@jupyter-widgets/base",
      "model_module_version": "*",
      "model_name": "LayoutModel",
      "state": {
       "_model_module_version": "*",
       "_view_module_version": "*",
       "align_content": "",
       "align_self": "",
       "border": "",
       "bottom": "",
       "flex": "",
       "height": "",
       "justify_content": "",
       "left": "",
       "margin": "",
       "max_height": "",
       "max_width": "",
       "min_height": "",
       "min_width": "",
       "msg_throttle": 3,
       "overflow": "",
       "overflow_x": "",
       "overflow_y": "",
       "padding": "",
       "right": "",
       "top": ""
      }
     },
     "fd02f011-fc8d-42d8-8228-3f4f88dc3dde": {
      "model_module": "beakerx",
      "model_module_version": "*",
      "model_name": "FoldoutModel",
      "state": {
       "background_color": null,
       "children": [
        "IPY_MODEL_35db4d97-7929-4c38-9152-826f206ce852"
       ],
       "color": null,
       "description": "",
       "disabled": false,
       "font_family": "",
       "font_size": "",
       "font_style": "",
       "font_weight": "",
       "headerLabel": "Added jars: ",
       "hidePreview": false,
       "layout": "IPY_MODEL_0040457e-cacd-4381-8fd2-c386f306f9d4",
       "msg_throttle": 3,
       "visible": true
      }
     }
    },
    "version_major": 2,
    "version_minor": 0
   }
  }
 },
 "nbformat": 4,
 "nbformat_minor": 2
}
